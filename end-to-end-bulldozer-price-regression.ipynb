{
 "cells": [
  {
   "cell_type": "code",
   "execution_count": null,
   "id": "49445af3",
   "metadata": {},
   "outputs": [],
   "source": [
    "import numpy as np\n",
    "import pandas as pd\n",
    "import matplotlib.pyplot as plt\n",
    "import sklearn"
   ]
  },
  {
   "cell_type": "code",
   "execution_count": null,
   "id": "dd2ae9f9",
   "metadata": {},
   "outputs": [],
   "source": [
    "df=pd.read_csv(\"data/bluebook-for-bulldozers/TrainAndValid.csv\",low_memory=False)"
   ]
  },
  {
   "cell_type": "code",
   "execution_count": null,
   "id": "fdc01551",
   "metadata": {},
   "outputs": [],
   "source": [
    "df.info()"
   ]
  },
  {
   "cell_type": "code",
   "execution_count": null,
   "id": "de072a1d",
   "metadata": {},
   "outputs": [],
   "source": [
    "fig, ax = plt.subplots()\n",
    "ax.scatter(df[\"saledate\"][:1000], df[\"SalePrice\"][:1000]);"
   ]
  },
  {
   "cell_type": "code",
   "execution_count": null,
   "id": "d16b8ee3",
   "metadata": {},
   "outputs": [],
   "source": [
    "df.SalePrice.plot.hist();"
   ]
  },
  {
   "cell_type": "code",
   "execution_count": null,
   "id": "ff52e33e",
   "metadata": {},
   "outputs": [],
   "source": [
    "df=pd.read_csv(\"data/bluebook-for-bulldozers/TrainAndValid.csv\",\n",
    "              low_memory=False,\n",
    "              parse_dates=[\"saledate\"])"
   ]
  },
  {
   "cell_type": "code",
   "execution_count": null,
   "id": "d76b22b1",
   "metadata": {},
   "outputs": [],
   "source": [
    "df.saledate.dtype"
   ]
  },
  {
   "cell_type": "code",
   "execution_count": null,
   "id": "bd957a13",
   "metadata": {},
   "outputs": [],
   "source": [
    "df.saledate[:1000]"
   ]
  },
  {
   "cell_type": "code",
   "execution_count": null,
   "id": "ce8a7b91",
   "metadata": {},
   "outputs": [],
   "source": [
    "df.head()"
   ]
  },
  {
   "cell_type": "code",
   "execution_count": null,
   "id": "b54474b5",
   "metadata": {},
   "outputs": [],
   "source": [
    "df.head().T"
   ]
  },
  {
   "cell_type": "code",
   "execution_count": null,
   "id": "19adf4bd",
   "metadata": {},
   "outputs": [],
   "source": [
    "df.sort_values(by=[\"saledate\"],inplace=True,ascending=True)"
   ]
  },
  {
   "cell_type": "code",
   "execution_count": null,
   "id": "ca5722e6",
   "metadata": {},
   "outputs": [],
   "source": [
    "df.saledate.head(20)"
   ]
  },
  {
   "cell_type": "markdown",
   "id": "ed99fe7e",
   "metadata": {},
   "source": [
    "##Make a copy of the original DataFrame\n",
    "Since we're going to be manipulating the data, we'll make a copy of the original DataFrame and perform our changes there.\n",
    "\n",
    "This will keep the original DataFrame in tact if we need it again."
   ]
  },
  {
   "cell_type": "code",
   "execution_count": null,
   "id": "4ab9b2a8",
   "metadata": {},
   "outputs": [],
   "source": [
    "df_tmp=df.copy()"
   ]
  },
  {
   "cell_type": "markdown",
   "id": "91fb2009",
   "metadata": {},
   "source": [
    "            ### Add datetime parameters for saledate colu"
   ]
  },
  {
   "cell_type": "code",
   "execution_count": null,
   "id": "ab56dd63",
   "metadata": {},
   "outputs": [],
   "source": [
    "df_tmp[\"saleYear\"] = df_tmp.saledate.dt.year\n",
    "df_tmp[\"saleMonth\"] = df_tmp.saledate.dt.month\n",
    "df_tmp[\"saleDay\"] = df_tmp.saledate.dt.day\n",
    "df_tmp[\"saleDayofweek\"] = df_tmp.saledate.dt.dayofweek\n",
    "df_tmp[\"saleDayofyear\"] = df_tmp.saledate.dt.dayofyear\n",
    "\n",
    "# Drop original saledate\n",
    "df_tmp.drop(\"saledate\", axis=1, inplace=True)"
   ]
  },
  {
   "cell_type": "code",
   "execution_count": null,
   "id": "61d9726f",
   "metadata": {},
   "outputs": [],
   "source": [
    "from sklearn.ensemble import RandomForestRegressor\n",
    "\n",
    "model = RandomForestRegressor(n_jobs=-1)\n",
    "model.fit(df_tmp.drop(\"SalePrice\", axis=1), df_tmp.SalePrice)"
   ]
  },
  {
   "cell_type": "code",
   "execution_count": null,
   "id": "799778a4",
   "metadata": {},
   "outputs": [],
   "source": [
    "df_tmp.info()"
   ]
  },
  {
   "cell_type": "code",
   "execution_count": null,
   "id": "cd810b9a",
   "metadata": {},
   "outputs": [],
   "source": [
    "df_tmp.isna().sum()"
   ]
  },
  {
   "cell_type": "markdown",
   "id": "b72a01ee",
   "metadata": {},
   "source": [
    "### convert all of the data in numbers"
   ]
  },
  {
   "cell_type": "code",
   "execution_count": null,
   "id": "737045a6",
   "metadata": {},
   "outputs": [],
   "source": [
    "pd.api.types.is_string_dtype(df_tmp[\"UsageBand\"])"
   ]
  },
  {
   "cell_type": "code",
   "execution_count": null,
   "id": "4d585826",
   "metadata": {},
   "outputs": [],
   "source": [
    "df_tmp.head().T"
   ]
  },
  {
   "cell_type": "code",
   "execution_count": null,
   "id": "dcaf3809",
   "metadata": {},
   "outputs": [],
   "source": [
    "# These columns contain strings\n",
    "for label, content in df_tmp.items():\n",
    "    if pd.api.types.is_string_dtype(content):\n",
    "        print(label)"
   ]
  },
  {
   "cell_type": "code",
   "execution_count": null,
   "id": "2c81890c",
   "metadata": {},
   "outputs": [],
   "source": [
    "for label in df_tmp.columns:\n",
    "    if df_tmp[label].dtype == 'object':\n",
    "        df_tmp[label] = df_tmp[label].astype('category')\n"
   ]
  },
  {
   "cell_type": "code",
   "execution_count": null,
   "id": "508f48f9",
   "metadata": {},
   "outputs": [],
   "source": [
    "df_tmp.info()"
   ]
  },
  {
   "cell_type": "code",
   "execution_count": null,
   "id": "39517c17",
   "metadata": {},
   "outputs": [],
   "source": [
    "df_tmp.state.cat.codes"
   ]
  },
  {
   "cell_type": "code",
   "execution_count": null,
   "id": "68e554e1",
   "metadata": {},
   "outputs": [],
   "source": [
    "df_tmp.isnull().sum()/len(df_tmp)"
   ]
  },
  {
   "cell_type": "markdown",
   "id": "94f6d7d8",
   "metadata": {},
   "source": [
    "### Save Processed Data"
   ]
  },
  {
   "cell_type": "code",
   "execution_count": null,
   "id": "e9f43f55",
   "metadata": {},
   "outputs": [],
   "source": [
    "df_tmp.to_csv(\"data/bluebook-for-bulldozers/train_tmp.csv\",\n",
    "              index=False)"
   ]
  },
  {
   "cell_type": "code",
   "execution_count": null,
   "id": "3dc6ce56",
   "metadata": {},
   "outputs": [],
   "source": [
    "df_tmp = pd.read_csv(\"data/bluebook-for-bulldozers/train_tmp.csv\",\n",
    "                     low_memory=False)\n",
    "df_tmp.head()"
   ]
  },
  {
   "cell_type": "markdown",
   "id": "995cb0bf",
   "metadata": {},
   "source": [
    "## Fill missing values"
   ]
  },
  {
   "cell_type": "code",
   "execution_count": null,
   "id": "f980717d",
   "metadata": {},
   "outputs": [],
   "source": [
    "for label, content in df_tmp.items():\n",
    "    if pd.api.types.is_numeric_dtype(content):\n",
    "        print(label)"
   ]
  },
  {
   "cell_type": "code",
   "execution_count": null,
   "id": "28cae380",
   "metadata": {},
   "outputs": [],
   "source": [
    "# Check for which numeric columns have null values\n",
    "for label, content in df_tmp.items():\n",
    "    if pd.api.types.is_numeric_dtype(content):\n",
    "        if pd.isnull(content).sum():\n",
    "            print(label)"
   ]
  },
  {
   "cell_type": "code",
   "execution_count": null,
   "id": "943215ab",
   "metadata": {},
   "outputs": [],
   "source": [
    "for label, content in df_tmp.items():\n",
    "    if pd.api.types.is_numeric_dtype(content):\n",
    "        if pd.isnull(content).sum():\n",
    "            # Add a binary column which tells if the data was missing our not\n",
    "            df_tmp[label+\"_is_missing\"] = pd.isnull(content)\n",
    "            # Fill missing numeric values with median since it's more robust than the mean\n",
    "            df_tmp[label] = content.fillna(content.median())"
   ]
  },
  {
   "cell_type": "code",
   "execution_count": null,
   "id": "2eb33a33",
   "metadata": {},
   "outputs": [],
   "source": [
    "for label, content in df_tmp.items():\n",
    "    if pd.api.types.is_numeric_dtype(content):\n",
    "        if pd.isnull(content).sum():\n",
    "            print(label)"
   ]
  },
  {
   "cell_type": "code",
   "execution_count": null,
   "id": "d1033ae3",
   "metadata": {},
   "outputs": [],
   "source": [
    "df_tmp.auctioneerID_is_missing.value_counts()"
   ]
  },
  {
   "cell_type": "code",
   "execution_count": null,
   "id": "dd0d5502",
   "metadata": {},
   "outputs": [],
   "source": [
    "# Check columns which *aren't* numeric\n",
    "for label, content in df_tmp.items():\n",
    "    if not pd.api.types.is_numeric_dtype(content):\n",
    "        print(label)"
   ]
  },
  {
   "cell_type": "code",
   "execution_count": null,
   "id": "0b3c7c64",
   "metadata": {},
   "outputs": [],
   "source": [
    "# Turn categorical variables into numbers\n",
    "for label, content in df_tmp.items():\n",
    "    \n",
    "    if not pd.api.types.is_numeric_dtype(content):\n",
    "       \n",
    "        df_tmp[label+\"_is_missing\"] = pd.isnull(content)\n",
    "      \n",
    "        df_tmp[label] = pd.Categorical(content).codes+1    "
   ]
  },
  {
   "cell_type": "code",
   "execution_count": null,
   "id": "5a72b951",
   "metadata": {},
   "outputs": [],
   "source": [
    "\n",
    "\n",
    "df_tmp.info()\n",
    "\n"
   ]
  },
  {
   "cell_type": "code",
   "execution_count": null,
   "id": "42a598db",
   "metadata": {},
   "outputs": [],
   "source": [
    "\n",
    "\n",
    "df_tmp.isna().sum()\n",
    "\n"
   ]
  },
  {
   "cell_type": "code",
   "execution_count": null,
   "id": "369c59a7",
   "metadata": {},
   "outputs": [],
   "source": [
    "\n",
    "\n",
    "df_tmp.head().T\n",
    "\n"
   ]
  },
  {
   "cell_type": "code",
   "execution_count": null,
   "id": "e555c79d",
   "metadata": {},
   "outputs": [],
   "source": [
    "%%time\n",
    "\n",
    "model = RandomForestRegressor(n_jobs=-1,random_state=42)\n",
    "\n",
    "\n",
    "model.fit(df_tmp.drop(\"SalePrice\", axis=1), df_tmp.SalePrice)"
   ]
  },
  {
   "cell_type": "code",
   "execution_count": null,
   "id": "89be9e99",
   "metadata": {},
   "outputs": [],
   "source": [
    "model.score(df_tmp.drop(\"SalePrice\", axis=1), df_tmp.SalePrice)"
   ]
  },
  {
   "cell_type": "markdown",
   "id": "e9eab92a",
   "metadata": {},
   "source": [
    "## Splitting data into train/valid sets"
   ]
  },
  {
   "cell_type": "code",
   "execution_count": null,
   "id": "92a7ad4f",
   "metadata": {},
   "outputs": [],
   "source": [
    "\n",
    "\n",
    "df_tmp.head()\n",
    "\n"
   ]
  },
  {
   "cell_type": "code",
   "execution_count": null,
   "id": "36ff5d83",
   "metadata": {},
   "outputs": [],
   "source": [
    "df_tmp.saleYear.value_counts()"
   ]
  },
  {
   "cell_type": "code",
   "execution_count": null,
   "id": "4ad12146",
   "metadata": {},
   "outputs": [],
   "source": [
    "df_val = df_tmp[df_tmp.saleYear == 2012]\n",
    "df_train = df_tmp[df_tmp.saleYear != 2012]\n",
    "\n",
    "len(df_val), len(df_train)\n",
    "X_train, y_train = df_train.drop(\"SalePrice\", axis=1), df_train.SalePrice\n",
    "X_valid, y_valid = df_val.drop(\"SalePrice\", axis=1), df_val.SalePrice\n",
    "\n",
    "X_train.shape, y_train.shape, X_valid.shape, y_valid.shape"
   ]
  },
  {
   "cell_type": "markdown",
   "id": "1997cd54",
   "metadata": {},
   "source": [
    "## Building an evaluation function"
   ]
  },
  {
   "cell_type": "code",
   "execution_count": null,
   "id": "493b9141",
   "metadata": {},
   "outputs": [],
   "source": [
    "from sklearn.metrics import mean_squared_log_error, mean_absolute_error\n",
    "\n",
    "def rmsle(y_test, y_preds):\n",
    "    return np.sqrt(mean_squared_log_error(y_test, y_preds))\n",
    "\n",
    "\n",
    "def show_scores(model):\n",
    "    train_preds = model.predict(X_train)\n",
    "    val_preds = model.predict(X_valid)\n",
    "    scores = {\"Training MAE\": mean_absolute_error(y_train, train_preds),\n",
    "              \"Valid MAE\": mean_absolute_error(y_valid, val_preds),\n",
    "              \"Training RMSLE\": rmsle(y_train, train_preds),\n",
    "              \"Valid RMSLE\": rmsle(y_valid, val_preds),\n",
    "              \"Training R^2\": model.score(X_train, y_train),\n",
    "              \"Valid R^2\": model.score(X_valid, y_valid)}\n",
    "    return scores"
   ]
  },
  {
   "cell_type": "code",
   "execution_count": null,
   "id": "d69df9ac",
   "metadata": {},
   "outputs": [],
   "source": [
    "# This takes too long...\n",
    "\n",
    "# %%time\n",
    "# # Retrain a model on training data\n",
    "# model.fit(X_train, y_train)\n",
    "# show_scores(model)"
   ]
  },
  {
   "cell_type": "code",
   "execution_count": null,
   "id": "ea6318d1",
   "metadata": {},
   "outputs": [],
   "source": [
    "model = RandomForestRegressor(n_jobs=-1,\n",
    "                              max_samples=10000)"
   ]
  },
  {
   "cell_type": "code",
   "execution_count": null,
   "id": "a7dfbcb1",
   "metadata": {},
   "outputs": [],
   "source": [
    "%%time\n",
    "\n",
    "model.fit(X_train, y_train)"
   ]
  },
  {
   "cell_type": "code",
   "execution_count": null,
   "id": "89439dee",
   "metadata": {},
   "outputs": [],
   "source": [
    "show_scores(model)"
   ]
  },
  {
   "cell_type": "code",
   "execution_count": null,
   "id": "78ceae5b",
   "metadata": {},
   "outputs": [],
   "source": [
    "%%time\n",
    "from sklearn.model_selection import RandomizedSearchCV\n",
    "\n",
    "# Different RandomForestClassifier hyperparameters\n",
    "rf_grid = {\"n_estimators\": np.arange(10, 100, 10),\n",
    "           \"max_depth\": [None, 3, 5, 10],\n",
    "           \"min_samples_split\": np.arange(2, 20, 2),\n",
    "           \"min_samples_leaf\": np.arange(1, 20, 2),\n",
    "           \"max_features\": [0.5, 1.0, \"sqrt\"], # Note: \"max_features='auto'\" is equivalent to \"max_features=1.0\", as of Scikit-Learn version 1.1\n",
    "           \"max_samples\": [10000]}\n",
    "\n",
    "rs_model = RandomizedSearchCV(RandomForestRegressor(),\n",
    "                    \n",
    "                              param_distributions=rf_grid,\n",
    "                              n_iter=20,\n",
    "                              cv=5,\n",
    "                              verbose=True)\n",
    "\n",
    "rs_model.fit(X_train, y_train)"
   ]
  },
  {
   "cell_type": "code",
   "execution_count": null,
   "id": "6636f11a",
   "metadata": {},
   "outputs": [],
   "source": [
    "rs_model.best_params_"
   ]
  },
  {
   "cell_type": "code",
   "execution_count": null,
   "id": "558e7510",
   "metadata": {},
   "outputs": [],
   "source": [
    "show_scores(rs_model)"
   ]
  },
  {
   "cell_type": "markdown",
   "id": "999c70ac",
   "metadata": {},
   "source": [
    "##  Train a model with the best parameters"
   ]
  },
  {
   "cell_type": "code",
   "execution_count": null,
   "id": "b2fd288e",
   "metadata": {},
   "outputs": [],
   "source": [
    "%%time\n",
    "# Most ideal hyperparameters\n",
    "ideal_model = RandomForestRegressor(n_estimators=90,\n",
    "                                    min_samples_leaf=1,\n",
    "                                    min_samples_split=14,\n",
    "                                    max_features=0.5,\n",
    "                                    n_jobs=-1,\n",
    "                                    max_samples=None)\n",
    "ideal_model.fit(X_train, y_train)"
   ]
  },
  {
   "cell_type": "code",
   "execution_count": null,
   "id": "7d7c63f3",
   "metadata": {},
   "outputs": [],
   "source": [
    "show_scores(ideal_model)"
   ]
  },
  {
   "cell_type": "markdown",
   "id": "c9a235a2",
   "metadata": {},
   "source": [
    "## Make predictions on test data"
   ]
  },
  {
   "cell_type": "code",
   "execution_count": null,
   "id": "3801b5a5",
   "metadata": {},
   "outputs": [],
   "source": [
    "df_test = pd.read_csv(\"data/bluebook-for-bulldozers/Test.csv\",\n",
    "                      parse_dates=[\"saledate\"])\n",
    "df_test.head()"
   ]
  },
  {
   "cell_type": "code",
   "execution_count": null,
   "id": "6fc459cb",
   "metadata": {},
   "outputs": [],
   "source": [
    "def preprocess_data(df):\n",
    "    # Add datetime parameters for saledate\n",
    "    df[\"saleYear\"] = df.saledate.dt.year\n",
    "    df[\"saleMonth\"] = df.saledate.dt.month\n",
    "    df[\"saleDay\"] = df.saledate.dt.day\n",
    "    df[\"saleDayofweek\"] = df.saledate.dt.dayofweek\n",
    "    df[\"saleDayofyear\"] = df.saledate.dt.dayofyear\n",
    "\n",
    "    # Drop original saledate\n",
    "    df.drop(\"saledate\", axis=1, inplace=True)\n",
    "    \n",
    "    # Fill numeric rows with the median\n",
    "    for label, content in df.items():\n",
    "        if pd.api.types.is_numeric_dtype(content):\n",
    "            if pd.isnull(content).sum():\n",
    "                df[label+\"_is_missing\"] = pd.isnull(content)\n",
    "                df[label] = content.fillna(content.median())\n",
    "                \n",
    "        # Turn categorical variables into numbers\n",
    "        if not pd.api.types.is_numeric_dtype(content):\n",
    "            df[label+\"_is_missing\"] = pd.isnull(content)\n",
    "            # We add the +1 because pandas encodes missing categories as -1\n",
    "            df[label] = pd.Categorical(content).codes+1        \n",
    "    \n",
    "    return df"
   ]
  },
  {
   "cell_type": "code",
   "execution_count": null,
   "id": "51b4eb12",
   "metadata": {},
   "outputs": [],
   "source": [
    "df_test = preprocess_data(df_test)\n",
    "df_test.head()"
   ]
  },
  {
   "cell_type": "code",
   "execution_count": null,
   "id": "d75e291e",
   "metadata": {},
   "outputs": [],
   "source": [
    "set(X_train.columns) - set(df_test.columns)"
   ]
  },
  {
   "cell_type": "code",
   "execution_count": null,
   "id": "fa03744a",
   "metadata": {},
   "outputs": [],
   "source": [
    "df_test[\"auctioneerID_is_missing\"] = False\n",
    "df_test.head()"
   ]
  },
  {
   "cell_type": "code",
   "execution_count": null,
   "id": "523524e4",
   "metadata": {},
   "outputs": [],
   "source": []
  },
  {
   "cell_type": "code",
   "execution_count": null,
   "id": "2e14841b",
   "metadata": {},
   "outputs": [],
   "source": [
    "test_preds = ideal_model.predict(df_test)"
   ]
  },
  {
   "cell_type": "code",
   "execution_count": null,
   "id": "c8ab530d",
   "metadata": {},
   "outputs": [],
   "source": []
  }
 ],
 "metadata": {
  "kernelspec": {
   "display_name": "Python 3 (ipykernel)",
   "language": "python",
   "name": "python3"
  },
  "language_info": {
   "codemirror_mode": {
    "name": "ipython",
    "version": 3
   },
   "file_extension": ".py",
   "mimetype": "text/x-python",
   "name": "python",
   "nbconvert_exporter": "python",
   "pygments_lexer": "ipython3",
   "version": "3.10.13"
  }
 },
 "nbformat": 4,
 "nbformat_minor": 5
}
